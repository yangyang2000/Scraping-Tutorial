{
 "cells": [
  {
   "cell_type": "code",
   "execution_count": 1,
   "metadata": {
    "collapsed": true
   },
   "outputs": [],
   "source": [
    "from urllib2 import urlopen as URL # Access internet resources\n",
    "from bs4 import BeautifulSoup as BS # Parse HTML pages\n",
    "import pandas as pd, numpy as np, re # importing some other packages"
   ]
  },
  {
   "cell_type": "markdown",
   "metadata": {},
   "source": [
    "# Let's get some data for LaLa Land"
   ]
  },
  {
   "cell_type": "code",
   "execution_count": 2,
   "metadata": {},
   "outputs": [
    {
     "name": "stderr",
     "output_type": "stream",
     "text": [
      "/home/ec2-user/anaconda2/lib/python2.7/site-packages/bs4/__init__.py:181: UserWarning: No parser was explicitly specified, so I'm using the best available HTML parser for this system (\"lxml\"). This usually isn't a problem, but if you run this code on another system, or in a different virtual environment, it may use a different parser and behave differently.\n",
      "\n",
      "The code that caused this warning is on line 174 of the file /home/ec2-user/anaconda2/lib/python2.7/runpy.py. To get rid of this warning, change code that looks like this:\n",
      "\n",
      " BeautifulSoup(YOUR_MARKUP})\n",
      "\n",
      "to this:\n",
      "\n",
      " BeautifulSoup(YOUR_MARKUP, \"lxml\")\n",
      "\n",
      "  markup_type=markup_type))\n"
     ]
    }
   ],
   "source": [
    "# Open page\n",
    "pg = 'http://www.imdb.com/title/' # This is the root of the url for movies\n",
    "tt = 'tt3783958' # this is the imdb id for a movie (this one is lalaland)\n",
    "sc = URL(pg+tt).read() # read the page source\n",
    "soup = BS(sc) # create soup object"
   ]
  },
  {
   "cell_type": "markdown",
   "metadata": {},
   "source": [
    "# Let's go to chrome to inspect this page\n",
    "![Chrome](https://www.dropbox.com/s/ayn7zdqfpsagxfc/lalaland.png?dl=1)"
   ]
  },
  {
   "cell_type": "markdown",
   "metadata": {},
   "source": [
    "# Getting some data from this page"
   ]
  },
  {
   "cell_type": "code",
   "execution_count": 3,
   "metadata": {},
   "outputs": [
    {
     "data": {
      "text/plain": [
       "1"
      ]
     },
     "execution_count": 3,
     "metadata": {},
     "output_type": "execute_result"
    }
   ],
   "source": [
    "rating = soup.find_all('div', {'class':'imdbRating'}) # Find div tags with class as imdbRating\n",
    "len(rating)"
   ]
  },
  {
   "cell_type": "code",
   "execution_count": 4,
   "metadata": {
    "collapsed": true
   },
   "outputs": [],
   "source": [
    "rating = rating[0] # since we know we only get one that fits this description, let's keep the first item"
   ]
  },
  {
   "cell_type": "code",
   "execution_count": 5,
   "metadata": {},
   "outputs": [
    {
     "data": {
      "text/plain": [
       "<div class=\"imdbRating\" itemprop=\"aggregateRating\" itemscope=\"\" itemtype=\"http://schema.org/AggregateRating\">\\n<div class=\"ratingValue\">\\n<strong title=\"8.2 based on 308,847 user ratings\"><span itemprop=\"ratingValue\">8.2</span></strong><span class=\"grey\">/</span><span class=\"grey\" itemprop=\"bestRating\">10</span> </div>\\n<a href=\"/title/tt3783958/ratings?ref_=tt_ov_rt\"><span class=\"small\" itemprop=\"ratingCount\">308,847</span></a>\\n<div class=\"hiddenImportant\">\\n<span itemprop=\"reviewCount\">1,211 user</span>\\n<span itemprop=\"reviewCount\">618 critic</span>\\n</div>\\n</div>"
      ]
     },
     "execution_count": 5,
     "metadata": {},
     "output_type": "execute_result"
    }
   ],
   "source": [
    "rating # this is what the HTML code looks like\n",
    "# notice there are several places where the data wa want is located\n",
    "# also, span tags a bunch of the data we want"
   ]
  },
  {
   "cell_type": "code",
   "execution_count": 6,
   "metadata": {},
   "outputs": [
    {
     "data": {
      "text/plain": [
       "[<span itemprop=\"ratingValue\">8.2</span>,\n",
       " <span class=\"grey\">/</span>,\n",
       " <span class=\"grey\" itemprop=\"bestRating\">10</span>,\n",
       " <span class=\"small\" itemprop=\"ratingCount\">308,847</span>,\n",
       " <span itemprop=\"reviewCount\">1,211 user</span>,\n",
       " <span itemprop=\"reviewCount\">618 critic</span>]"
      ]
     },
     "execution_count": 6,
     "metadata": {},
     "output_type": "execute_result"
    }
   ],
   "source": [
    "rating.find_all('span')"
   ]
  },
  {
   "cell_type": "code",
   "execution_count": 7,
   "metadata": {},
   "outputs": [
    {
     "data": {
      "text/plain": [
       "u'8.2'"
      ]
     },
     "execution_count": 7,
     "metadata": {},
     "output_type": "execute_result"
    }
   ],
   "source": [
    "rating.find_all('span')[0].text"
   ]
  },
  {
   "cell_type": "code",
   "execution_count": 8,
   "metadata": {},
   "outputs": [
    {
     "data": {
      "text/plain": [
       "[u'8.2', u'/', u'10', u'308,847', u'1,211 user', u'618 critic']"
      ]
     },
     "execution_count": 8,
     "metadata": {},
     "output_type": "execute_result"
    }
   ],
   "source": [
    "ratingdata = [s.text for s in rating.find_all('span')] # seems to get all the data we need\n",
    "ratingdata"
   ]
  },
  {
   "cell_type": "code",
   "execution_count": 9,
   "metadata": {},
   "outputs": [
    {
     "data": {
      "text/plain": [
       "[u'8.2', u'10', u'308,847', u'1,211 user', u'618 critic']"
      ]
     },
     "execution_count": 9,
     "metadata": {},
     "output_type": "execute_result"
    }
   ],
   "source": [
    "ratingdata = [r for r in ratingdata if ('/' not in r)] # let's just get rid of the entry we don't want\n",
    "ratingdata"
   ]
  },
  {
   "cell_type": "code",
   "execution_count": 10,
   "metadata": {},
   "outputs": [
    {
     "data": {
      "text/plain": [
       "34412.0"
      ]
     },
     "execution_count": 10,
     "metadata": {},
     "output_type": "execute_result"
    }
   ],
   "source": [
    "# How can we extract  numbers only from a blob of text?\n",
    "float(re.findall('[0-9.,]+','asfdjla34,412rqupoieqr31431.,341231r3')[0].replace(',', ''))"
   ]
  },
  {
   "cell_type": "code",
   "execution_count": 11,
   "metadata": {},
   "outputs": [
    {
     "data": {
      "text/plain": [
       "[8.2, 10.0, 308847.0, 1211.0, 618.0]"
      ]
     },
     "execution_count": 11,
     "metadata": {},
     "output_type": "execute_result"
    }
   ],
   "source": [
    "ratingdata = [float(re.findall('[0-9.,]+',r)[0].replace(',', '')) for r in ratingdata] # why does this work?\n",
    "ratingdata"
   ]
  },
  {
   "cell_type": "code",
   "execution_count": 12,
   "metadata": {
    "collapsed": true
   },
   "outputs": [],
   "source": [
    "labels = ['rating','out_of', 'volume', 'userreviews', 'criticreviews']"
   ]
  },
  {
   "cell_type": "code",
   "execution_count": 13,
   "metadata": {},
   "outputs": [
    {
     "data": {
      "text/plain": [
       "{'criticreviews': 618.0,\n",
       " 'out_of': 10.0,\n",
       " 'rating': 8.2,\n",
       " 'userreviews': 1211.0,\n",
       " 'volume': 308847.0}"
      ]
     },
     "execution_count": 13,
     "metadata": {},
     "output_type": "execute_result"
    }
   ],
   "source": [
    "moviedata = dict(zip(labels, ratingdata))\n",
    "moviedata"
   ]
  },
  {
   "cell_type": "code",
   "execution_count": 26,
   "metadata": {},
   "outputs": [],
   "source": []
  },
  {
   "cell_type": "code",
   "execution_count": 28,
   "metadata": {
    "collapsed": true
   },
   "outputs": [],
   "source": [
    "title = soup.find_all('div', {'class':'title_wrapper'})[0]\n",
    "moviename = u' '.join(title.find('h1').text.strip().split())"
   ]
  },
  {
   "cell_type": "code",
   "execution_count": 29,
   "metadata": {},
   "outputs": [
    {
     "data": {
      "text/plain": [
       "{'criticreviews': 618.0,\n",
       " 'movie': u'La La Land (2016)',\n",
       " 'out_of': 10.0,\n",
       " 'rating': 8.2,\n",
       " 'userreviews': 1211.0,\n",
       " 'volume': 308847.0}"
      ]
     },
     "execution_count": 29,
     "metadata": {},
     "output_type": "execute_result"
    }
   ],
   "source": [
    "moviedata['movie'] = moviename\n",
    "moviedata"
   ]
  },
  {
   "cell_type": "markdown",
   "metadata": {},
   "source": [
    "# Make this into a function "
   ]
  },
  {
   "cell_type": "code",
   "execution_count": 30,
   "metadata": {
    "collapsed": true
   },
   "outputs": [],
   "source": [
    "def imdb_rating_test(tt='tt3315342'):\n",
    "    pg = 'http://www.imdb.com/title/' # This is the root of the url for movies\n",
    "    sc = URL(pg+tt).read() # read the page source\n",
    "    soup = BS(sc)\n",
    "    rating = soup.find_all('div', {'class':'imdbRating'})[0] # Find div tags with class as imdbRating\n",
    "    ratingdata = [s.text for s in rating.find_all('span')] # seems to get all the data we need\n",
    "    ratingdata = [r for r in ratingdata if ('/' not in r)] # let's just get rid of the entry we don't want\n",
    "    ratingdata = [float(re.findall('[0-9.,]+',r)[0].replace(',', '')) for r in ratingdata] # why does this work?\n",
    "    labels = ['rating','out_of', 'volume', 'userreviews', 'criticreviews']\n",
    "    moviedata = dict(zip(labels, ratingdata))\n",
    "    title = soup.find('div', {'class':'title_wrapper'})\n",
    "    moviename = u' '.join(title.find('h1').text.strip().split())\n",
    "    moviedata['movie']=moviename\n",
    "    return moviedata"
   ]
  },
  {
   "cell_type": "code",
   "execution_count": 31,
   "metadata": {},
   "outputs": [
    {
     "data": {
      "text/plain": [
       "{'criticreviews': 618.0,\n",
       " 'movie': u'La La Land (2016)',\n",
       " 'out_of': 10.0,\n",
       " 'rating': 8.2,\n",
       " 'userreviews': 1211.0,\n",
       " 'volume': 308847.0}"
      ]
     },
     "execution_count": 31,
     "metadata": {},
     "output_type": "execute_result"
    }
   ],
   "source": [
    "moviedata = imdb_rating_test(tt='tt3783958')\n",
    "moviedata"
   ]
  },
  {
   "cell_type": "markdown",
   "metadata": {},
   "source": [
    "# Let's get a bunch of these"
   ]
  },
  {
   "cell_type": "code",
   "execution_count": 32,
   "metadata": {
    "collapsed": true
   },
   "outputs": [],
   "source": [
    "import pandas as pd\n",
    "links = pd.read_csv('https://www.dropbox.com/s/eiadju0vt3wkjrd/links.csv?dl=1')"
   ]
  },
  {
   "cell_type": "code",
   "execution_count": 33,
   "metadata": {},
   "outputs": [
    {
     "data": {
      "text/html": [
       "<div>\n",
       "<style>\n",
       "    .dataframe thead tr:only-child th {\n",
       "        text-align: right;\n",
       "    }\n",
       "\n",
       "    .dataframe thead th {\n",
       "        text-align: left;\n",
       "    }\n",
       "\n",
       "    .dataframe tbody tr th {\n",
       "        vertical-align: top;\n",
       "    }\n",
       "</style>\n",
       "<table border=\"1\" class=\"dataframe\">\n",
       "  <thead>\n",
       "    <tr style=\"text-align: right;\">\n",
       "      <th></th>\n",
       "      <th>movieId</th>\n",
       "      <th>imdbId</th>\n",
       "      <th>tmdbId</th>\n",
       "    </tr>\n",
       "  </thead>\n",
       "  <tbody>\n",
       "    <tr>\n",
       "      <th>0</th>\n",
       "      <td>1</td>\n",
       "      <td>114709</td>\n",
       "      <td>862.0</td>\n",
       "    </tr>\n",
       "    <tr>\n",
       "      <th>1</th>\n",
       "      <td>2</td>\n",
       "      <td>113497</td>\n",
       "      <td>8844.0</td>\n",
       "    </tr>\n",
       "    <tr>\n",
       "      <th>2</th>\n",
       "      <td>3</td>\n",
       "      <td>113228</td>\n",
       "      <td>15602.0</td>\n",
       "    </tr>\n",
       "    <tr>\n",
       "      <th>3</th>\n",
       "      <td>4</td>\n",
       "      <td>114885</td>\n",
       "      <td>31357.0</td>\n",
       "    </tr>\n",
       "    <tr>\n",
       "      <th>4</th>\n",
       "      <td>5</td>\n",
       "      <td>113041</td>\n",
       "      <td>11862.0</td>\n",
       "    </tr>\n",
       "  </tbody>\n",
       "</table>\n",
       "</div>"
      ],
      "text/plain": [
       "   movieId  imdbId   tmdbId\n",
       "0        1  114709    862.0\n",
       "1        2  113497   8844.0\n",
       "2        3  113228  15602.0\n",
       "3        4  114885  31357.0\n",
       "4        5  113041  11862.0"
      ]
     },
     "execution_count": 33,
     "metadata": {},
     "output_type": "execute_result"
    }
   ],
   "source": [
    "links.head()"
   ]
  },
  {
   "cell_type": "code",
   "execution_count": 34,
   "metadata": {},
   "outputs": [
    {
     "data": {
      "text/plain": [
       "9125"
      ]
     },
     "execution_count": 34,
     "metadata": {},
     "output_type": "execute_result"
    }
   ],
   "source": [
    "imdbids = ['tt'+str(l) for l in list(links.imdbId)]\n",
    "len(imdbids)"
   ]
  },
  {
   "cell_type": "code",
   "execution_count": 35,
   "metadata": {
    "collapsed": true
   },
   "outputs": [],
   "source": [
    "# We can write a loop to do this...\n",
    "out = dict()\n",
    "for l in imdbids[:10]: # let's get the first 10 for now\n",
    "    out[l]=imdb_rating_test(tt=l)"
   ]
  },
  {
   "cell_type": "code",
   "execution_count": 36,
   "metadata": {},
   "outputs": [
    {
     "data": {
      "text/html": [
       "<div>\n",
       "<style>\n",
       "    .dataframe thead tr:only-child th {\n",
       "        text-align: right;\n",
       "    }\n",
       "\n",
       "    .dataframe thead th {\n",
       "        text-align: left;\n",
       "    }\n",
       "\n",
       "    .dataframe tbody tr th {\n",
       "        vertical-align: top;\n",
       "    }\n",
       "</style>\n",
       "<table border=\"1\" class=\"dataframe\">\n",
       "  <thead>\n",
       "    <tr style=\"text-align: right;\">\n",
       "      <th></th>\n",
       "      <th>tt</th>\n",
       "      <th>criticreviews</th>\n",
       "      <th>movie</th>\n",
       "      <th>out_of</th>\n",
       "      <th>rating</th>\n",
       "      <th>userreviews</th>\n",
       "      <th>volume</th>\n",
       "    </tr>\n",
       "  </thead>\n",
       "  <tbody>\n",
       "    <tr>\n",
       "      <th>0</th>\n",
       "      <td>tt112302</td>\n",
       "      <td>14</td>\n",
       "      <td>Tom and Huck (1995)</td>\n",
       "      <td>10</td>\n",
       "      <td>5.6</td>\n",
       "      <td>20</td>\n",
       "      <td>8149</td>\n",
       "    </tr>\n",
       "    <tr>\n",
       "      <th>1</th>\n",
       "      <td>tt113041</td>\n",
       "      <td>37</td>\n",
       "      <td>Father of the Bride Part II (1995)</td>\n",
       "      <td>10</td>\n",
       "      <td>5.9</td>\n",
       "      <td>66</td>\n",
       "      <td>28656</td>\n",
       "    </tr>\n",
       "    <tr>\n",
       "      <th>2</th>\n",
       "      <td>tt113189</td>\n",
       "      <td>145</td>\n",
       "      <td>GoldenEye (1995)</td>\n",
       "      <td>10</td>\n",
       "      <td>7.2</td>\n",
       "      <td>429</td>\n",
       "      <td>209584</td>\n",
       "    </tr>\n",
       "    <tr>\n",
       "      <th>3</th>\n",
       "      <td>tt113228</td>\n",
       "      <td>26</td>\n",
       "      <td>Grumpier Old Men (1995)</td>\n",
       "      <td>10</td>\n",
       "      <td>6.6</td>\n",
       "      <td>60</td>\n",
       "      <td>20718</td>\n",
       "    </tr>\n",
       "    <tr>\n",
       "      <th>4</th>\n",
       "      <td>tt113277</td>\n",
       "      <td>183</td>\n",
       "      <td>Heat (1995)</td>\n",
       "      <td>10</td>\n",
       "      <td>8.2</td>\n",
       "      <td>913</td>\n",
       "      <td>470061</td>\n",
       "    </tr>\n",
       "  </tbody>\n",
       "</table>\n",
       "</div>"
      ],
      "text/plain": [
       "         tt criticreviews                               movie out_of rating  \\\n",
       "0  tt112302            14                 Tom and Huck (1995)     10    5.6   \n",
       "1  tt113041            37  Father of the Bride Part II (1995)     10    5.9   \n",
       "2  tt113189           145                    GoldenEye (1995)     10    7.2   \n",
       "3  tt113228            26             Grumpier Old Men (1995)     10    6.6   \n",
       "4  tt113277           183                         Heat (1995)     10    8.2   \n",
       "\n",
       "  userreviews  volume  \n",
       "0          20    8149  \n",
       "1          66   28656  \n",
       "2         429  209584  \n",
       "3          60   20718  \n",
       "4         913  470061  "
      ]
     },
     "execution_count": 36,
     "metadata": {},
     "output_type": "execute_result"
    }
   ],
   "source": [
    "df = pd.DataFrame(out).transpose().reset_index()\n",
    "df.rename(columns={'index':'tt'}, inplace = True)\n",
    "df.head()"
   ]
  },
  {
   "cell_type": "code",
   "execution_count": 60,
   "metadata": {},
   "outputs": [
    {
     "name": "stdout",
     "output_type": "stream",
     "text": [
      "10\n"
     ]
    }
   ],
   "source": [
    "from ipyparallel import Client\n",
    "cli = Client('/home/ec2-user/.starcluster/ipcluster/SecurityGroup:@sc-smallcluster2-us-west-2.json', \n",
    "             sshkey='/home/ec2-user/.ssh/mykey.rsa', packer = 'json')\n",
    "lbview = cli.load_balanced_view() #define parallel block type (balanced)\n",
    "pnodes = len(cli.ids)\n",
    "print pnodes\n",
    "# cli = Client()\n",
    "# lbview = cli.load_balanced_view() #define parallel block type (balanced)\n",
    "# pnodes = len(cli.ids)\n",
    "# print pnodes"
   ]
  },
  {
   "cell_type": "code",
   "execution_count": 61,
   "metadata": {
    "collapsed": true
   },
   "outputs": [],
   "source": [
    "@lbview.parallel(block=True)\n",
    "def imdb_rating_par(ttlist):\n",
    "    from urllib2 import urlopen as URL\n",
    "    from bs4 import BeautifulSoup as BS\n",
    "    import re\n",
    "    pg = 'http://www.imdb.com/title/' # This is the root of the url for movies\n",
    "    output = list()\n",
    "    for tt in ttlist:\n",
    "        try:\n",
    "            sc = URL(pg+tt).read() # read the page source\n",
    "            soup = BS(sc)\n",
    "            rating = soup.find_all('div', {'class':'imdbRating'})[0] # Find div tags with class as imdbRating\n",
    "            ratingdata = [s.text for s in rating.find_all('span')] # seems to get all the data we need\n",
    "            ratingdata = [r for r in ratingdata if ('/' not in r)] # let's just get rid of the entry we don't want\n",
    "            ratingdata = [float(re.findall('[0-9.,]+',r)[0].replace(',', '')) for r in ratingdata] # why does this work?\n",
    "            labels = ['rating','out_of', 'volume', 'userreviews', 'criticreviews']\n",
    "            moviedata = dict(zip(labels, ratingdata))\n",
    "            title = soup.find('div', {'class':'title_wrapper'})\n",
    "            moviename = u' '.join(title.find('h1').text.strip().split())\n",
    "            moviedata['movie']=moviename\n",
    "            output.append((tt, moviedata))\n",
    "        except:\n",
    "            pass\n",
    "    return output"
   ]
  },
  {
   "cell_type": "code",
   "execution_count": 62,
   "metadata": {
    "collapsed": true
   },
   "outputs": [],
   "source": [
    "from itertools import izip_longest\n",
    "def grouper(iterable, n, fillvalue=None):\n",
    "    args = [iter(iterable)] * n\n",
    "    return izip_longest(*args, fillvalue=fillvalue)"
   ]
  },
  {
   "cell_type": "code",
   "execution_count": 63,
   "metadata": {},
   "outputs": [],
   "source": [
    "inputs = imdbids[:100]\n",
    "inputs = list(grouper(inputs, int(len(inputs)/pnodes+1), fillvalue=None))"
   ]
  },
  {
   "cell_type": "code",
   "execution_count": 64,
   "metadata": {},
   "outputs": [],
   "source": [
    "outputs = imdb_rating_par.map(inputs) # execute in parallel"
   ]
  },
  {
   "cell_type": "code",
   "execution_count": 66,
   "metadata": {},
   "outputs": [
    {
     "data": {
      "text/html": [
       "<div>\n",
       "<style>\n",
       "    .dataframe thead tr:only-child th {\n",
       "        text-align: right;\n",
       "    }\n",
       "\n",
       "    .dataframe thead th {\n",
       "        text-align: left;\n",
       "    }\n",
       "\n",
       "    .dataframe tbody tr th {\n",
       "        vertical-align: top;\n",
       "    }\n",
       "</style>\n",
       "<table border=\"1\" class=\"dataframe\">\n",
       "  <thead>\n",
       "    <tr style=\"text-align: right;\">\n",
       "      <th></th>\n",
       "      <th>tt</th>\n",
       "      <th>criticreviews</th>\n",
       "      <th>movie</th>\n",
       "      <th>out_of</th>\n",
       "      <th>rating</th>\n",
       "      <th>userreviews</th>\n",
       "      <th>volume</th>\n",
       "    </tr>\n",
       "  </thead>\n",
       "  <tbody>\n",
       "    <tr>\n",
       "      <th>0</th>\n",
       "      <td>tt110299</td>\n",
       "      <td>17</td>\n",
       "      <td>Lamerica (1994)</td>\n",
       "      <td>10</td>\n",
       "      <td>7.6</td>\n",
       "      <td>12</td>\n",
       "      <td>1824</td>\n",
       "    </tr>\n",
       "    <tr>\n",
       "      <th>1</th>\n",
       "      <td>tt110877</td>\n",
       "      <td>36</td>\n",
       "      <td>Il Postino (1994)</td>\n",
       "      <td>10</td>\n",
       "      <td>7.7</td>\n",
       "      <td>108</td>\n",
       "      <td>27999</td>\n",
       "    </tr>\n",
       "    <tr>\n",
       "      <th>2</th>\n",
       "      <td>tt111173</td>\n",
       "      <td>13</td>\n",
       "      <td>Shopping (1994)</td>\n",
       "      <td>10</td>\n",
       "      <td>5.4</td>\n",
       "      <td>39</td>\n",
       "      <td>2234</td>\n",
       "    </tr>\n",
       "    <tr>\n",
       "      <th>3</th>\n",
       "      <td>tt112281</td>\n",
       "      <td>62</td>\n",
       "      <td>Ace Ventura: When Nature Calls (1995)</td>\n",
       "      <td>10</td>\n",
       "      <td>6.3</td>\n",
       "      <td>180</td>\n",
       "      <td>172301</td>\n",
       "    </tr>\n",
       "    <tr>\n",
       "      <th>4</th>\n",
       "      <td>tt112286</td>\n",
       "      <td>7</td>\n",
       "      <td>Across the Sea of Time (1995)</td>\n",
       "      <td>10</td>\n",
       "      <td>6.4</td>\n",
       "      <td>9</td>\n",
       "      <td>217</td>\n",
       "    </tr>\n",
       "  </tbody>\n",
       "</table>\n",
       "</div>"
      ],
      "text/plain": [
       "         tt criticreviews                                  movie out_of  \\\n",
       "0  tt110299            17                        Lamerica (1994)     10   \n",
       "1  tt110877            36                      Il Postino (1994)     10   \n",
       "2  tt111173            13                        Shopping (1994)     10   \n",
       "3  tt112281            62  Ace Ventura: When Nature Calls (1995)     10   \n",
       "4  tt112286             7          Across the Sea of Time (1995)     10   \n",
       "\n",
       "  rating userreviews  volume  \n",
       "0    7.6          12    1824  \n",
       "1    7.7         108   27999  \n",
       "2    5.4          39    2234  \n",
       "3    6.3         180  172301  \n",
       "4    6.4           9     217  "
      ]
     },
     "execution_count": 66,
     "metadata": {},
     "output_type": "execute_result"
    }
   ],
   "source": [
    "from itertools import chain\n",
    "df = pd.DataFrame(dict(list(chain(*outputs)))).transpose().reset_index()\n",
    "df.rename(columns = {'index':'tt'}, inplace = True)\n",
    "df.head()"
   ]
  },
  {
   "cell_type": "markdown",
   "metadata": {},
   "source": [
    "# Ok, we got the aggregate review data, what else can we get?"
   ]
  },
  {
   "cell_type": "markdown",
   "metadata": {},
   "source": [
    "## Metacritic score?\n",
    "![MetaCritic](https://www.dropbox.com/s/baurxvpegadz8kp/lalaland_metacritic.png?dl=1)"
   ]
  },
  {
   "cell_type": "code",
   "execution_count": null,
   "metadata": {
    "collapsed": true
   },
   "outputs": [],
   "source": [
    "soup.find_all('div', {'class':'metacriticScore'}) # looks like there's only one of these on the page"
   ]
  },
  {
   "cell_type": "code",
   "execution_count": null,
   "metadata": {
    "collapsed": true
   },
   "outputs": [],
   "source": [
    "soup.find_all('div', {'class':'metacriticScore'})[0].text # we can get the text like this"
   ]
  },
  {
   "cell_type": "code",
   "execution_count": null,
   "metadata": {
    "collapsed": true
   },
   "outputs": [],
   "source": [
    "soup.find_all('div', {'class':'metacriticScore'})[0].text.strip() # we can strip the extra stuff"
   ]
  },
  {
   "cell_type": "code",
   "execution_count": null,
   "metadata": {
    "collapsed": true
   },
   "outputs": [],
   "source": [
    "moviedata['metacritic'] = float(soup.find_all('div', {'class':'metacriticScore'})[0].text.strip()) \n",
    "# strip the line breaks (\\n) and convert to float\n",
    "# insert into moviedata dictionary\n",
    "moviedata"
   ]
  },
  {
   "cell_type": "code",
   "execution_count": null,
   "metadata": {
    "collapsed": true
   },
   "outputs": [],
   "source": []
  },
  {
   "cell_type": "code",
   "execution_count": null,
   "metadata": {
    "collapsed": true
   },
   "outputs": [],
   "source": []
  },
  {
   "cell_type": "markdown",
   "metadata": {},
   "source": [
    "# Your turn\n",
    "### First get box office data (budget, opening weekend, gross)\n",
    "![BoxOffice](https://www.dropbox.com/s/uuxnqlxt2rkni1n/lalaland_boxoffice.png?dl=1)"
   ]
  },
  {
   "cell_type": "code",
   "execution_count": null,
   "metadata": {
    "collapsed": true
   },
   "outputs": [],
   "source": [
    "txtblock = soup.find_all('div', {'class':'txt-block'})"
   ]
  },
  {
   "cell_type": "code",
   "execution_count": null,
   "metadata": {
    "collapsed": true
   },
   "outputs": [],
   "source": [
    "header = txtblock[0].find_all('h4')[0].text"
   ]
  },
  {
   "cell_type": "code",
   "execution_count": null,
   "metadata": {
    "collapsed": true
   },
   "outputs": [],
   "source": [
    "txtblock[0].text.replace(header+u'\\n', '').strip()"
   ]
  },
  {
   "cell_type": "code",
   "execution_count": null,
   "metadata": {
    "collapsed": true
   },
   "outputs": [],
   "source": [
    "out = list() # creating empty list\n",
    "for r in txtblock: # loop through txtblock\n",
    "    try:\n",
    "        header = r.find_all('h4')[0].text\n",
    "        dat = r.text.replace(header+u'\\n', '').strip()\n",
    "        out.append((header, dat))\n",
    "    except:\n",
    "        pass"
   ]
  },
  {
   "cell_type": "code",
   "execution_count": null,
   "metadata": {
    "collapsed": true
   },
   "outputs": [],
   "source": [
    "out"
   ]
  },
  {
   "cell_type": "code",
   "execution_count": null,
   "metadata": {
    "collapsed": true
   },
   "outputs": [],
   "source": []
  },
  {
   "cell_type": "code",
   "execution_count": null,
   "metadata": {
    "collapsed": true
   },
   "outputs": [],
   "source": [
    "### Your code, insert lines here as needed"
   ]
  },
  {
   "cell_type": "code",
   "execution_count": null,
   "metadata": {
    "collapsed": true
   },
   "outputs": [],
   "source": []
  }
 ],
 "metadata": {
  "kernelspec": {
   "display_name": "Python 2",
   "language": "python",
   "name": "python2"
  },
  "language_info": {
   "codemirror_mode": {
    "name": "ipython",
    "version": 2
   },
   "file_extension": ".py",
   "mimetype": "text/x-python",
   "name": "python",
   "nbconvert_exporter": "python",
   "pygments_lexer": "ipython2",
   "version": "2.7.13"
  }
 },
 "nbformat": 4,
 "nbformat_minor": 2 
}
